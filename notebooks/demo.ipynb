{
 "cells": [
  {
   "cell_type": "code",
   "execution_count": 1,
   "id": "2e2977ac-fc99-4ced-aadb-2671e42c9cd7",
   "metadata": {
    "vscode": {
     "languageId": "plaintext"
    }
   },
   "outputs": [
    {
     "ename": "ModuleNotFoundError",
     "evalue": "No module named 'kiwisolver._cext'",
     "output_type": "error",
     "traceback": [
      "\u001b[31m---------------------------------------------------------------------------\u001b[39m",
      "\u001b[31mModuleNotFoundError\u001b[39m                       Traceback (most recent call last)",
      "\u001b[36mCell\u001b[39m\u001b[36m \u001b[39m\u001b[32mIn[1]\u001b[39m\u001b[32m, line 13\u001b[39m\n\u001b[32m     11\u001b[39m \u001b[38;5;66;03m# imports\u001b[39;00m\n\u001b[32m     12\u001b[39m \u001b[38;5;28;01mimport\u001b[39;00m\u001b[38;5;250m \u001b[39m\u001b[34;01mtorch\u001b[39;00m\n\u001b[32m---> \u001b[39m\u001b[32m13\u001b[39m \u001b[38;5;28;01mimport\u001b[39;00m\u001b[38;5;250m \u001b[39m\u001b[34;01mmatplotlib\u001b[39;00m\u001b[34;01m.\u001b[39;00m\u001b[34;01mpyplot\u001b[39;00m\u001b[38;5;250m \u001b[39m\u001b[38;5;28;01mas\u001b[39;00m\u001b[38;5;250m \u001b[39m\u001b[34;01mplt\u001b[39;00m\n\u001b[32m     14\u001b[39m \u001b[38;5;28;01mfrom\u001b[39;00m\u001b[38;5;250m \u001b[39m\u001b[34;01mmodels\u001b[39;00m\u001b[34;01m.\u001b[39;00m\u001b[34;01mtransformer\u001b[39;00m\u001b[38;5;250m \u001b[39m\u001b[38;5;28;01mimport\u001b[39;00m TinyTransformerBlock\n",
      "\u001b[36mFile \u001b[39m\u001b[32m~\\tiny-transformer\\venv\\Lib\\site-packages\\matplotlib\\__init__.py:264\u001b[39m\n\u001b[32m    259\u001b[39m         \u001b[38;5;28;01mif\u001b[39;00m parse_version(module.__version__) < parse_version(minver):\n\u001b[32m    260\u001b[39m             \u001b[38;5;28;01mraise\u001b[39;00m \u001b[38;5;167;01mImportError\u001b[39;00m(\u001b[33mf\u001b[39m\u001b[33m\"\u001b[39m\u001b[33mMatplotlib requires \u001b[39m\u001b[38;5;132;01m{\u001b[39;00mmodname\u001b[38;5;132;01m}\u001b[39;00m\u001b[33m>=\u001b[39m\u001b[38;5;132;01m{\u001b[39;00mminver\u001b[38;5;132;01m}\u001b[39;00m\u001b[33m; \u001b[39m\u001b[33m\"\u001b[39m\n\u001b[32m    261\u001b[39m                               \u001b[33mf\u001b[39m\u001b[33m\"\u001b[39m\u001b[33myou have \u001b[39m\u001b[38;5;132;01m{\u001b[39;00mmodule.__version__\u001b[38;5;132;01m}\u001b[39;00m\u001b[33m\"\u001b[39m)\n\u001b[32m--> \u001b[39m\u001b[32m264\u001b[39m \u001b[43m_check_versions\u001b[49m\u001b[43m(\u001b[49m\u001b[43m)\u001b[49m\n\u001b[32m    267\u001b[39m \u001b[38;5;66;03m# The decorator ensures this always returns the same handler (and it is only\u001b[39;00m\n\u001b[32m    268\u001b[39m \u001b[38;5;66;03m# attached once).\u001b[39;00m\n\u001b[32m    269\u001b[39m \u001b[38;5;129m@functools\u001b[39m.cache\n\u001b[32m    270\u001b[39m \u001b[38;5;28;01mdef\u001b[39;00m\u001b[38;5;250m \u001b[39m\u001b[34m_ensure_handler\u001b[39m():\n",
      "\u001b[36mFile \u001b[39m\u001b[32m~\\tiny-transformer\\venv\\Lib\\site-packages\\matplotlib\\__init__.py:258\u001b[39m, in \u001b[36m_check_versions\u001b[39m\u001b[34m()\u001b[39m\n\u001b[32m    249\u001b[39m \u001b[38;5;28;01mfrom\u001b[39;00m\u001b[38;5;250m \u001b[39m\u001b[34;01m.\u001b[39;00m\u001b[38;5;250m \u001b[39m\u001b[38;5;28;01mimport\u001b[39;00m ft2font  \u001b[38;5;66;03m# noqa: F401\u001b[39;00m\n\u001b[32m    251\u001b[39m \u001b[38;5;28;01mfor\u001b[39;00m modname, minver \u001b[38;5;129;01min\u001b[39;00m [\n\u001b[32m    252\u001b[39m         (\u001b[33m\"\u001b[39m\u001b[33mcycler\u001b[39m\u001b[33m\"\u001b[39m, \u001b[33m\"\u001b[39m\u001b[33m0.10\u001b[39m\u001b[33m\"\u001b[39m),\n\u001b[32m    253\u001b[39m         (\u001b[33m\"\u001b[39m\u001b[33mdateutil\u001b[39m\u001b[33m\"\u001b[39m, \u001b[33m\"\u001b[39m\u001b[33m2.7\u001b[39m\u001b[33m\"\u001b[39m),\n\u001b[32m   (...)\u001b[39m\u001b[32m    256\u001b[39m         (\u001b[33m\"\u001b[39m\u001b[33mpyparsing\u001b[39m\u001b[33m\"\u001b[39m, \u001b[33m\"\u001b[39m\u001b[33m2.3.1\u001b[39m\u001b[33m\"\u001b[39m),\n\u001b[32m    257\u001b[39m ]:\n\u001b[32m--> \u001b[39m\u001b[32m258\u001b[39m     module = \u001b[43mimportlib\u001b[49m\u001b[43m.\u001b[49m\u001b[43mimport_module\u001b[49m\u001b[43m(\u001b[49m\u001b[43mmodname\u001b[49m\u001b[43m)\u001b[49m\n\u001b[32m    259\u001b[39m     \u001b[38;5;28;01mif\u001b[39;00m parse_version(module.__version__) < parse_version(minver):\n\u001b[32m    260\u001b[39m         \u001b[38;5;28;01mraise\u001b[39;00m \u001b[38;5;167;01mImportError\u001b[39;00m(\u001b[33mf\u001b[39m\u001b[33m\"\u001b[39m\u001b[33mMatplotlib requires \u001b[39m\u001b[38;5;132;01m{\u001b[39;00mmodname\u001b[38;5;132;01m}\u001b[39;00m\u001b[33m>=\u001b[39m\u001b[38;5;132;01m{\u001b[39;00mminver\u001b[38;5;132;01m}\u001b[39;00m\u001b[33m; \u001b[39m\u001b[33m\"\u001b[39m\n\u001b[32m    261\u001b[39m                           \u001b[33mf\u001b[39m\u001b[33m\"\u001b[39m\u001b[33myou have \u001b[39m\u001b[38;5;132;01m{\u001b[39;00mmodule.__version__\u001b[38;5;132;01m}\u001b[39;00m\u001b[33m\"\u001b[39m)\n",
      "\u001b[36mFile \u001b[39m\u001b[32m~\\AppData\\Local\\Programs\\Python\\Python313\\Lib\\importlib\\__init__.py:88\u001b[39m, in \u001b[36mimport_module\u001b[39m\u001b[34m(name, package)\u001b[39m\n\u001b[32m     86\u001b[39m             \u001b[38;5;28;01mbreak\u001b[39;00m\n\u001b[32m     87\u001b[39m         level += \u001b[32m1\u001b[39m\n\u001b[32m---> \u001b[39m\u001b[32m88\u001b[39m \u001b[38;5;28;01mreturn\u001b[39;00m \u001b[43m_bootstrap\u001b[49m\u001b[43m.\u001b[49m\u001b[43m_gcd_import\u001b[49m\u001b[43m(\u001b[49m\u001b[43mname\u001b[49m\u001b[43m[\u001b[49m\u001b[43mlevel\u001b[49m\u001b[43m:\u001b[49m\u001b[43m]\u001b[49m\u001b[43m,\u001b[49m\u001b[43m \u001b[49m\u001b[43mpackage\u001b[49m\u001b[43m,\u001b[49m\u001b[43m \u001b[49m\u001b[43mlevel\u001b[49m\u001b[43m)\u001b[49m\n",
      "\u001b[36mFile \u001b[39m\u001b[32m~\\tiny-transformer\\venv\\Lib\\site-packages\\kiwisolver\\__init__.py:8\u001b[39m\n\u001b[32m      1\u001b[39m \u001b[38;5;66;03m# --------------------------------------------------------------------------------------\u001b[39;00m\n\u001b[32m      2\u001b[39m \u001b[38;5;66;03m# Copyright (c) 2013-2025, Nucleic Development Team.\u001b[39;00m\n\u001b[32m      3\u001b[39m \u001b[38;5;66;03m#\u001b[39;00m\n\u001b[32m   (...)\u001b[39m\u001b[32m      6\u001b[39m \u001b[38;5;66;03m# The full license is in the file LICENSE, distributed with this software.\u001b[39;00m\n\u001b[32m      7\u001b[39m \u001b[38;5;66;03m# --------------------------------------------------------------------------------------\u001b[39;00m\n\u001b[32m----> \u001b[39m\u001b[32m8\u001b[39m \u001b[38;5;28;01mfrom\u001b[39;00m\u001b[38;5;250m \u001b[39m\u001b[34;01m.\u001b[39;00m\u001b[34;01m_cext\u001b[39;00m\u001b[38;5;250m \u001b[39m\u001b[38;5;28;01mimport\u001b[39;00m (\n\u001b[32m      9\u001b[39m     Constraint,\n\u001b[32m     10\u001b[39m     Expression,\n\u001b[32m     11\u001b[39m     Solver,\n\u001b[32m     12\u001b[39m     Term,\n\u001b[32m     13\u001b[39m     Variable,\n\u001b[32m     14\u001b[39m     __kiwi_version__,\n\u001b[32m     15\u001b[39m     __version__,\n\u001b[32m     16\u001b[39m     strength,\n\u001b[32m     17\u001b[39m )\n\u001b[32m     18\u001b[39m \u001b[38;5;28;01mfrom\u001b[39;00m\u001b[38;5;250m \u001b[39m\u001b[34;01m.\u001b[39;00m\u001b[34;01mexceptions\u001b[39;00m\u001b[38;5;250m \u001b[39m\u001b[38;5;28;01mimport\u001b[39;00m (\n\u001b[32m     19\u001b[39m     BadRequiredStrength,\n\u001b[32m     20\u001b[39m     DuplicateConstraint,\n\u001b[32m   (...)\u001b[39m\u001b[32m     24\u001b[39m     UnsatisfiableConstraint,\n\u001b[32m     25\u001b[39m )\n\u001b[32m     27\u001b[39m __all__ = [\n\u001b[32m     28\u001b[39m     \u001b[33m\"\u001b[39m\u001b[33mBadRequiredStrength\u001b[39m\u001b[33m\"\u001b[39m,\n\u001b[32m     29\u001b[39m     \u001b[33m\"\u001b[39m\u001b[33mConstraint\u001b[39m\u001b[33m\"\u001b[39m,\n\u001b[32m   (...)\u001b[39m\u001b[32m     41\u001b[39m     \u001b[33m\"\u001b[39m\u001b[33mstrength\u001b[39m\u001b[33m\"\u001b[39m,\n\u001b[32m     42\u001b[39m ]\n",
      "\u001b[31mModuleNotFoundError\u001b[39m: No module named 'kiwisolver._cext'"
     ]
    }
   ],
   "source": [
    "# --- Setup ---\n",
    "import sys, os\n",
    "\n",
    "# autoreload so that transformer.py updates automatically\n",
    "%load_ext autoreload\n",
    "%autoreload 2\n",
    "\n",
    "# make sure repo root is on path\n",
    "sys.path.append(os.path.abspath(\"..\"))\n",
    "\n",
    "# imports\n",
    "import torch\n",
    "import matplotlib.pyplot as plt\n",
    "from models.transformer import TinyTransformerBlock\n"
   ]
  },
  {
   "cell_type": "code",
   "execution_count": null,
   "id": "389f226f",
   "metadata": {
    "vscode": {
     "languageId": "plaintext"
    }
   },
   "outputs": [],
   "source": [
    "x = torch.randn(1, 6, 64)  # batch=1, seq_len=6\n",
    "model = TinyTransformerBlock(d_model=64, num_heads=4, dim_ff=128)\n",
    "\n",
    "out, attn = model(x, return_attn=True)\n",
    "print(out.shape)    # (1, 6, 64)\n",
    "print(attn.shape)   # (1, 4, 6, 6)\n",
    "\n"
   ]
  },
  {
   "cell_type": "code",
   "execution_count": null,
   "id": "5c141d5f",
   "metadata": {
    "vscode": {
     "languageId": "plaintext"
    }
   },
   "outputs": [],
   "source": [
    "def plot_all_heads(attn, sample_idx=0):\n",
    "    \"\"\"\n",
    "    Plots all attention heads for a given sample.\n",
    "    attn shape: (batch, heads, seq_len, seq_len)\n",
    "    \"\"\"\n",
    "    num_heads = attn.shape[1]\n",
    "    fig, axes = plt.subplots(1, num_heads, figsize=(4*num_heads, 4))\n",
    "\n",
    "    for h in range(num_heads):\n",
    "        ax = axes[h] if num_heads > 1 else axes\n",
    "        ax.imshow(attn[sample_idx, h].detach().numpy(), cmap=\"viridis\")\n",
    "        ax.set_title(f\"Head {h}\")\n",
    "        ax.set_xlabel(\"Key tokens\")\n",
    "        ax.set_ylabel(\"Query tokens\")\n",
    "\n",
    "    plt.tight_layout()\n",
    "    plt.show()"
   ]
  },
  {
   "cell_type": "code",
   "execution_count": null,
   "id": "a148fddc-c255-431f-9459-230bf72c0920",
   "metadata": {},
   "outputs": [],
   "source": [
    "x = torch.randn(1, 6, 64)   # batch=1, seq_len=6\n",
    "model = TinyTransformerBlock(d_model=64, num_heads=4, dim_ff=128)\n",
    "\n",
    "out, attn = model(x, return_attn=True)\n",
    "print(\"Output shape:\", out.shape)\n",
    "print(\"Attention shape:\", attn.shape)  # (1, heads, 6, 6)\n",
    "\n",
    "plot_all_heads(attn)\n"
   ]
  },
  {
   "cell_type": "code",
   "execution_count": null,
   "id": "6c585a02-3d59-4a9a-930b-48c13eabb475",
   "metadata": {},
   "outputs": [],
   "source": [
    "head = 0\n",
    "plt.imshow(attn[0, head].detach().numpy(), cmap=\"viridis\")\n",
    "plt.colorbar()\n",
    "plt.title(f\"Attention heatmap (head {head})\")\n",
    "plt.xlabel(\"Key tokens\")\n",
    "plt.ylabel(\"Query tokens\")\n",
    "plt.show()"
   ]
  },
  {
   "cell_type": "code",
   "execution_count": null,
   "id": "dad3d479-3680-41a1-b108-1287fbbe1053",
   "metadata": {},
   "outputs": [],
   "source": []
  }
 ],
 "metadata": {
  "kernelspec": {
   "display_name": "Python 3 (ipykernel)",
   "language": "python",
   "name": "python3"
  },
  "language_info": {
   "codemirror_mode": {
    "name": "ipython",
    "version": 3
   },
   "file_extension": ".py",
   "mimetype": "text/x-python",
   "name": "python",
   "nbconvert_exporter": "python",
   "pygments_lexer": "ipython3",
   "version": "3.13.1"
  }
 },
 "nbformat": 4,
 "nbformat_minor": 5
}

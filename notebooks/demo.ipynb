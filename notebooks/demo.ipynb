{
 "cells": [
  {
   "cell_type": "code",
   "execution_count": null,
   "id": "4f8e96f4",
   "metadata": {
    "vscode": {
     "languageId": "plaintext"
    }
   },
   "outputs": [],
   "source": [
    "import sys, os\n",
    "sys.path.append(os.path.abspath(\"..\"))  # ensure repo root is on path\n",
    "\n",
    "import torch\n",
    "import matplotlib.pyplot as plt\n",
    "from models.transformer import TinyTransformerBlock\n"
   ]
  },
  {
   "cell_type": "code",
   "execution_count": null,
   "id": "389f226f",
   "metadata": {
    "vscode": {
     "languageId": "plaintext"
    }
   },
   "outputs": [],
   "source": [
    "# Random input: batch=2, sequence length=5, embedding size=64\n",
    "x = torch.randn(2, 5, 64)\n",
    "print(\"Input shape:\", x.shape)\n",
    "\n",
    "model = TinyTransformerBlock(d_model=64, num_heads=4, dim_ff=128)\n",
    "out = model(x)\n",
    "\n",
    "print(\"Output shape:\", out.shape)\n"
   ]
  },
  {
   "cell_type": "code",
   "execution_count": null,
   "id": "5c141d5f",
   "metadata": {
    "vscode": {
     "languageId": "plaintext"
    }
   },
   "outputs": [],
   "source": [
    "plt.imshow(out[0].detach().numpy(), aspect=\"auto\", cmap=\"viridis\")\n",
    "plt.colorbar()\n",
    "plt.title(\"Transformer output (sample 0)\")\n",
    "plt.xlabel(\"Embedding dimension\")\n",
    "plt.ylabel(\"Token position\")\n",
    "plt.show()\n"
   ]
  }
 ],
 "metadata": {
  "language_info": {
   "name": "python"
  }
 },
 "nbformat": 4,
 "nbformat_minor": 5
}

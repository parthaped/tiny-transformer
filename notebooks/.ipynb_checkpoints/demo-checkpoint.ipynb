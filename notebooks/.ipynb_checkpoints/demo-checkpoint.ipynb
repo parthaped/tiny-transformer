{
 "cells": [
  {
   "cell_type": "code",
   "execution_count": null,
   "id": "2e2977ac-fc99-4ced-aadb-2671e42c9cd7",
   "metadata": {
    "vscode": {
     "languageId": "plaintext"
    }
   },
   "outputs": [],
   "source": [
    "# --- Setup ---\n",
    "import sys, os\n",
    "\n",
    "# autoreload so that transformer.py updates automatically\n",
    "%load_ext autoreload\n",
    "%autoreload 2\n",
    "\n",
    "# make sure repo root is on path\n",
    "sys.path.append(os.path.abspath(\"..\"))\n",
    "\n",
    "# imports\n",
    "import torch\n",
    "import matplotlib.pyplot as plt\n",
    "from models.transformer import TinyTransformerBlock\n"
   ]
  },
  {
   "cell_type": "code",
   "execution_count": null,
   "id": "389f226f",
   "metadata": {
    "vscode": {
     "languageId": "plaintext"
    }
   },
   "outputs": [],
   "source": [
    "x = torch.randn(1, 6, 64)  # batch=1, seq_len=6\n",
    "model = TinyTransformerBlock(d_model=64, num_heads=4, dim_ff=128)\n",
    "\n",
    "out, attn = model(x, return_attn=True)\n",
    "print(out.shape)    # (1, 6, 64)\n",
    "print(attn.shape)   # (1, 4, 6, 6)\n",
    "\n"
   ]
  },
  {
   "cell_type": "code",
   "execution_count": null,
   "id": "5c141d5f",
   "metadata": {
    "vscode": {
     "languageId": "plaintext"
    }
   },
   "outputs": [],
   "source": [
    "def plot_all_heads(attn, sample_idx=0):\n",
    "    \"\"\"\n",
    "    Plots all attention heads for a given sample.\n",
    "    attn shape: (batch, heads, seq_len, seq_len)\n",
    "    \"\"\"\n",
    "    num_heads = attn.shape[1]\n",
    "    fig, axes = plt.subplots(1, num_heads, figsize=(4*num_heads, 4))\n",
    "\n",
    "    for h in range(num_heads):\n",
    "        ax = axes[h] if num_heads > 1 else axes\n",
    "        ax.imshow(attn[sample_idx, h].detach().numpy(), cmap=\"viridis\")\n",
    "        ax.set_title(f\"Head {h}\")\n",
    "        ax.set_xlabel(\"Key tokens\")\n",
    "        ax.set_ylabel(\"Query tokens\")\n",
    "\n",
    "    plt.tight_layout()\n",
    "    plt.show()"
   ]
  },
  {
   "cell_type": "code",
   "execution_count": null,
   "id": "a148fddc-c255-431f-9459-230bf72c0920",
   "metadata": {},
   "outputs": [],
   "source": [
    "x = torch.randn(1, 6, 64)   # batch=1, seq_len=6\n",
    "model = TinyTransformerBlock(d_model=64, num_heads=4, dim_ff=128)\n",
    "\n",
    "out, attn = model(x, return_attn=True)\n",
    "print(\"Output shape:\", out.shape)\n",
    "print(\"Attention shape:\", attn.shape)  # (1, heads, 6, 6)\n",
    "\n",
    "plot_all_heads(attn)\n"
   ]
  },
  {
   "cell_type": "code",
   "execution_count": null,
   "id": "6c585a02-3d59-4a9a-930b-48c13eabb475",
   "metadata": {},
   "outputs": [],
   "source": [
    "head = 0\n",
    "plt.imshow(attn[0, head].detach().numpy(), cmap=\"viridis\")\n",
    "plt.colorbar()\n",
    "plt.title(f\"Attention heatmap (head {head})\")\n",
    "plt.xlabel(\"Key tokens\")\n",
    "plt.ylabel(\"Query tokens\")\n",
    "plt.show()"
   ]
  }
 ],
 "metadata": {
  "kernelspec": {
   "display_name": "Python 3 (ipykernel)",
   "language": "python",
   "name": "python3"
  },
  "language_info": {
   "codemirror_mode": {
    "name": "ipython",
    "version": 3
   },
   "file_extension": ".py",
   "mimetype": "text/x-python",
   "name": "python",
   "nbconvert_exporter": "python",
   "pygments_lexer": "ipython3",
   "version": "3.13.1"
  }
 },
 "nbformat": 4,
 "nbformat_minor": 5
}

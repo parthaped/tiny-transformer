{
 "cells": [
  {
   "cell_type": "markdown",
   "id": "8462b4f0",
   "metadata": {},
   "source": [
    "# 🧪 Tiny Transformer Demo\n",
    "\n",
    "This notebook demonstrates how to use the `TinyTransformerBlock` model.  \n",
    "We'll run it on toy inputs and visualize the outputs.\n"
   ]
  },
  {
   "cell_type": "code",
   "execution_count": null,
   "id": "9e54f63a",
   "metadata": {
    "vscode": {
     "languageId": "plaintext"
    }
   },
   "outputs": [],
   "source": [
    "import torch\n",
    "import matplotlib.pyplot as plt\n",
    "from models.transformer import TinyTransformerBlock\n"
   ]
  },
  {
   "cell_type": "code",
   "execution_count": null,
   "id": "8b95bba9",
   "metadata": {
    "vscode": {
     "languageId": "plaintext"
    }
   },
   "outputs": [],
   "source": [
    "# Random input: batch=2, sequence length=5, embedding size=64\n",
    "x = torch.randn(2, 5, 64)\n",
    "print(\"Input shape:\", x.shape)\n"
   ]
  },
  {
   "cell_type": "code",
   "execution_count": null,
   "id": "f5a6bc7b",
   "metadata": {
    "vscode": {
     "languageId": "plaintext"
    }
   },
   "outputs": [],
   "source": [
    "model = TinyTransformerBlock(d_model=64, num_heads=4, dim_ff=128)\n",
    "out = model(x)\n",
    "\n",
    "print(\"Output shape:\", out.shape)\n",
    "out[0, :2]   # preview first two tokens of first sample\n"
   ]
  },
  {
   "cell_type": "code",
   "execution_count": null,
   "id": "b54043d1",
   "metadata": {
    "vscode": {
     "languageId": "plaintext"
    }
   },
   "outputs": [],
   "source": [
    "plt.imshow(out[0].detach().numpy(), aspect=\"auto\", cmap=\"viridis\")\n",
    "plt.colorbar()\n",
    "plt.title(\"Transformer output (sample 0)\")\n",
    "plt.xlabel(\"Embedding dimension\")\n",
    "plt.ylabel(\"Token position\")\n",
    "plt.show()\n"
   ]
  }
 ],
 "metadata": {
  "language_info": {
   "name": "python"
  }
 },
 "nbformat": 4,
 "nbformat_minor": 5
}
